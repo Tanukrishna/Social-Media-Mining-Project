{
  "nbformat": 4,
  "nbformat_minor": 0,
  "metadata": {
    "colab": {
      "name": "Topic Modelling news.ipynb",
      "provenance": [],
      "collapsed_sections": [],
      "authorship_tag": "ABX9TyONza/rUOEPwkNYih7am0pV",
      "include_colab_link": true
    },
    "kernelspec": {
      "name": "python3",
      "display_name": "Python 3"
    },
    "language_info": {
      "name": "python"
    },
    "widgets": {
      "application/vnd.jupyter.widget-state+json": {
        "e9f7bb7165654c519d0606fc6cac9aa1": {
          "model_module": "@jupyter-widgets/controls",
          "model_name": "HBoxModel",
          "state": {
            "_view_name": "HBoxView",
            "_dom_classes": [],
            "_model_name": "HBoxModel",
            "_view_module": "@jupyter-widgets/controls",
            "_model_module_version": "1.5.0",
            "_view_count": null,
            "_view_module_version": "1.5.0",
            "box_style": "",
            "layout": "IPY_MODEL_d78ff5e16f6047b5975d42a0115068cc",
            "_model_module": "@jupyter-widgets/controls",
            "children": [
              "IPY_MODEL_6aae672494e9468ea523ffe4195cc34c",
              "IPY_MODEL_854c7fdf181c4452a150f67532a91c03"
            ]
          }
        },
        "d78ff5e16f6047b5975d42a0115068cc": {
          "model_module": "@jupyter-widgets/base",
          "model_name": "LayoutModel",
          "state": {
            "_view_name": "LayoutView",
            "grid_template_rows": null,
            "right": null,
            "justify_content": null,
            "_view_module": "@jupyter-widgets/base",
            "overflow": null,
            "_model_module_version": "1.2.0",
            "_view_count": null,
            "flex_flow": null,
            "width": null,
            "min_width": null,
            "border": null,
            "align_items": null,
            "bottom": null,
            "_model_module": "@jupyter-widgets/base",
            "top": null,
            "grid_column": null,
            "overflow_y": null,
            "overflow_x": null,
            "grid_auto_flow": null,
            "grid_area": null,
            "grid_template_columns": null,
            "flex": null,
            "_model_name": "LayoutModel",
            "justify_items": null,
            "grid_row": null,
            "max_height": null,
            "align_content": null,
            "visibility": null,
            "align_self": null,
            "height": null,
            "min_height": null,
            "padding": null,
            "grid_auto_rows": null,
            "grid_gap": null,
            "max_width": null,
            "order": null,
            "_view_module_version": "1.2.0",
            "grid_template_areas": null,
            "object_position": null,
            "object_fit": null,
            "grid_auto_columns": null,
            "margin": null,
            "display": null,
            "left": null
          }
        },
        "6aae672494e9468ea523ffe4195cc34c": {
          "model_module": "@jupyter-widgets/controls",
          "model_name": "FloatProgressModel",
          "state": {
            "_view_name": "ProgressView",
            "style": "IPY_MODEL_fd64893b2ceb47598981e1b514e0ccdc",
            "_dom_classes": [],
            "description": "100%",
            "_model_name": "FloatProgressModel",
            "bar_style": "success",
            "max": 244715968,
            "_view_module": "@jupyter-widgets/controls",
            "_model_module_version": "1.5.0",
            "value": 244715968,
            "_view_count": null,
            "_view_module_version": "1.5.0",
            "orientation": "horizontal",
            "min": 0,
            "description_tooltip": null,
            "_model_module": "@jupyter-widgets/controls",
            "layout": "IPY_MODEL_66448f73e47b44d8a7f9b55b31e5d0d1"
          }
        },
        "854c7fdf181c4452a150f67532a91c03": {
          "model_module": "@jupyter-widgets/controls",
          "model_name": "HTMLModel",
          "state": {
            "_view_name": "HTMLView",
            "style": "IPY_MODEL_07c35e1b221643c08c8325f36b9e72db",
            "_dom_classes": [],
            "description": "",
            "_model_name": "HTMLModel",
            "placeholder": "​",
            "_view_module": "@jupyter-widgets/controls",
            "_model_module_version": "1.5.0",
            "value": " 245M/245M [00:18&lt;00:00, 13.1MB/s]",
            "_view_count": null,
            "_view_module_version": "1.5.0",
            "description_tooltip": null,
            "_model_module": "@jupyter-widgets/controls",
            "layout": "IPY_MODEL_cf8260d8aacf401d8e7a1b94dc23cc1f"
          }
        },
        "fd64893b2ceb47598981e1b514e0ccdc": {
          "model_module": "@jupyter-widgets/controls",
          "model_name": "ProgressStyleModel",
          "state": {
            "_view_name": "StyleView",
            "_model_name": "ProgressStyleModel",
            "description_width": "initial",
            "_view_module": "@jupyter-widgets/base",
            "_model_module_version": "1.5.0",
            "_view_count": null,
            "_view_module_version": "1.2.0",
            "bar_color": null,
            "_model_module": "@jupyter-widgets/controls"
          }
        },
        "66448f73e47b44d8a7f9b55b31e5d0d1": {
          "model_module": "@jupyter-widgets/base",
          "model_name": "LayoutModel",
          "state": {
            "_view_name": "LayoutView",
            "grid_template_rows": null,
            "right": null,
            "justify_content": null,
            "_view_module": "@jupyter-widgets/base",
            "overflow": null,
            "_model_module_version": "1.2.0",
            "_view_count": null,
            "flex_flow": null,
            "width": null,
            "min_width": null,
            "border": null,
            "align_items": null,
            "bottom": null,
            "_model_module": "@jupyter-widgets/base",
            "top": null,
            "grid_column": null,
            "overflow_y": null,
            "overflow_x": null,
            "grid_auto_flow": null,
            "grid_area": null,
            "grid_template_columns": null,
            "flex": null,
            "_model_name": "LayoutModel",
            "justify_items": null,
            "grid_row": null,
            "max_height": null,
            "align_content": null,
            "visibility": null,
            "align_self": null,
            "height": null,
            "min_height": null,
            "padding": null,
            "grid_auto_rows": null,
            "grid_gap": null,
            "max_width": null,
            "order": null,
            "_view_module_version": "1.2.0",
            "grid_template_areas": null,
            "object_position": null,
            "object_fit": null,
            "grid_auto_columns": null,
            "margin": null,
            "display": null,
            "left": null
          }
        },
        "07c35e1b221643c08c8325f36b9e72db": {
          "model_module": "@jupyter-widgets/controls",
          "model_name": "DescriptionStyleModel",
          "state": {
            "_view_name": "StyleView",
            "_model_name": "DescriptionStyleModel",
            "description_width": "",
            "_view_module": "@jupyter-widgets/base",
            "_model_module_version": "1.5.0",
            "_view_count": null,
            "_view_module_version": "1.2.0",
            "_model_module": "@jupyter-widgets/controls"
          }
        },
        "cf8260d8aacf401d8e7a1b94dc23cc1f": {
          "model_module": "@jupyter-widgets/base",
          "model_name": "LayoutModel",
          "state": {
            "_view_name": "LayoutView",
            "grid_template_rows": null,
            "right": null,
            "justify_content": null,
            "_view_module": "@jupyter-widgets/base",
            "overflow": null,
            "_model_module_version": "1.2.0",
            "_view_count": null,
            "flex_flow": null,
            "width": null,
            "min_width": null,
            "border": null,
            "align_items": null,
            "bottom": null,
            "_model_module": "@jupyter-widgets/base",
            "top": null,
            "grid_column": null,
            "overflow_y": null,
            "overflow_x": null,
            "grid_auto_flow": null,
            "grid_area": null,
            "grid_template_columns": null,
            "flex": null,
            "_model_name": "LayoutModel",
            "justify_items": null,
            "grid_row": null,
            "max_height": null,
            "align_content": null,
            "visibility": null,
            "align_self": null,
            "height": null,
            "min_height": null,
            "padding": null,
            "grid_auto_rows": null,
            "grid_gap": null,
            "max_width": null,
            "order": null,
            "_view_module_version": "1.2.0",
            "grid_template_areas": null,
            "object_position": null,
            "object_fit": null,
            "grid_auto_columns": null,
            "margin": null,
            "display": null,
            "left": null
          }
        }
      }
    }
  },
  "cells": [
    {
      "cell_type": "markdown",
      "metadata": {
        "id": "view-in-github",
        "colab_type": "text"
      },
      "source": [
        "<a href=\"https://colab.research.google.com/github/Tanukrishna/Social-Media-Mining-Project/blob/main/Topic_Modelling_news.ipynb\" target=\"_parent\"><img src=\"https://colab.research.google.com/assets/colab-badge.svg\" alt=\"Open In Colab\"/></a>"
      ]
    },
    {
      "cell_type": "code",
      "metadata": {
        "id": "oEHcBMTQkPQm"
      },
      "source": [
        ""
      ],
      "execution_count": null,
      "outputs": []
    },
    {
      "cell_type": "markdown",
      "metadata": {
        "id": "pSCtGex5jw8o"
      },
      "source": [
        "# Topic modelling of the posts from \"r/news\" \n"
      ]
    },
    {
      "cell_type": "code",
      "metadata": {
        "colab": {
          "base_uri": "https://localhost:8080/",
          "height": 1000
        },
        "id": "z4Du_JWPjubA",
        "outputId": "79e7207a-8c4d-4e7e-edf3-d79b02fb826e"
      },
      "source": [
        "!pip install bertopic"
      ],
      "execution_count": null,
      "outputs": [
        {
          "output_type": "stream",
          "text": [
            "Collecting bertopic\n",
            "\u001b[?25l  Downloading https://files.pythonhosted.org/packages/fd/87/002625b60c2327c713e22288b3ac4f8e4bd42bde1806d81a3eef4f5152e3/bertopic-0.7.0-py2.py3-none-any.whl (40kB)\n",
            "\u001b[K     |████████████████████████████████| 40kB 2.4MB/s \n",
            "\u001b[?25hCollecting sentence-transformers>=0.4.1\n",
            "\u001b[?25l  Downloading https://files.pythonhosted.org/packages/c4/87/49dc49e13ac107ce912c2f3f3fd92252c6d4221e88d1e6c16747044a11d8/sentence-transformers-1.1.0.tar.gz (78kB)\n",
            "\u001b[K     |████████████████████████████████| 81kB 2.9MB/s \n",
            "\u001b[?25hCollecting numpy>=1.20.0\n",
            "\u001b[?25l  Downloading https://files.pythonhosted.org/packages/73/ef/8967d406f3f85018ceb5efab50431e901683188f1741ceb053efcab26c87/numpy-1.20.2-cp37-cp37m-manylinux2010_x86_64.whl (15.3MB)\n",
            "\u001b[K     |████████████████████████████████| 15.3MB 1.8MB/s \n",
            "\u001b[?25hCollecting plotly<4.14.3,>=4.7.0\n",
            "\u001b[?25l  Downloading https://files.pythonhosted.org/packages/9d/2e/69579c3db25fa4f85d70a10f8a98d52c2b4a0dcbd153e8f17f425761bef4/plotly-4.14.2-py2.py3-none-any.whl (13.2MB)\n",
            "\u001b[K     |████████████████████████████████| 13.2MB 43.5MB/s \n",
            "\u001b[?25hRequirement already satisfied: pandas>=1.1.5 in /usr/local/lib/python3.7/dist-packages (from bertopic) (1.1.5)\n",
            "Collecting umap-learn>=0.5.0\n",
            "\u001b[?25l  Downloading https://files.pythonhosted.org/packages/75/69/85e7f950bb75792ad5d666d86c5f3e62eedbb942848e7e3126513af9999c/umap-learn-0.5.1.tar.gz (80kB)\n",
            "\u001b[K     |████████████████████████████████| 81kB 7.5MB/s \n",
            "\u001b[?25hRequirement already satisfied: tqdm>=4.41.1 in /usr/local/lib/python3.7/dist-packages (from bertopic) (4.41.1)\n",
            "Requirement already satisfied: scikit-learn>=0.22.2.post1 in /usr/local/lib/python3.7/dist-packages (from bertopic) (0.22.2.post1)\n",
            "Collecting hdbscan>=0.8.27\n",
            "\u001b[?25l  Downloading https://files.pythonhosted.org/packages/32/bb/59a75bc5ac66a9b4f9b8f979e4545af0e98bb1ca4e6ae96b3b956b554223/hdbscan-0.8.27.tar.gz (6.4MB)\n",
            "\u001b[K     |████████████████████████████████| 6.4MB 34.5MB/s \n",
            "\u001b[?25h  Installing build dependencies ... \u001b[?25l\u001b[?25hdone\n",
            "  Getting requirements to build wheel ... \u001b[?25l\u001b[?25hdone\n",
            "    Preparing wheel metadata ... \u001b[?25l\u001b[?25hdone\n",
            "Collecting transformers<5.0.0,>=3.1.0\n",
            "\u001b[?25l  Downloading https://files.pythonhosted.org/packages/d8/b2/57495b5309f09fa501866e225c84532d1fd89536ea62406b2181933fb418/transformers-4.5.1-py3-none-any.whl (2.1MB)\n",
            "\u001b[K     |████████████████████████████████| 2.1MB 29.5MB/s \n",
            "\u001b[?25hRequirement already satisfied: torch>=1.6.0 in /usr/local/lib/python3.7/dist-packages (from sentence-transformers>=0.4.1->bertopic) (1.8.1+cu101)\n",
            "Requirement already satisfied: scipy in /usr/local/lib/python3.7/dist-packages (from sentence-transformers>=0.4.1->bertopic) (1.4.1)\n",
            "Requirement already satisfied: nltk in /usr/local/lib/python3.7/dist-packages (from sentence-transformers>=0.4.1->bertopic) (3.2.5)\n",
            "Collecting sentencepiece\n",
            "\u001b[?25l  Downloading https://files.pythonhosted.org/packages/f5/99/e0808cb947ba10f575839c43e8fafc9cc44e4a7a2c8f79c60db48220a577/sentencepiece-0.1.95-cp37-cp37m-manylinux2014_x86_64.whl (1.2MB)\n",
            "\u001b[K     |████████████████████████████████| 1.2MB 39.5MB/s \n",
            "\u001b[?25hRequirement already satisfied: six in /usr/local/lib/python3.7/dist-packages (from plotly<4.14.3,>=4.7.0->bertopic) (1.15.0)\n",
            "Requirement already satisfied: retrying>=1.3.3 in /usr/local/lib/python3.7/dist-packages (from plotly<4.14.3,>=4.7.0->bertopic) (1.3.3)\n",
            "Requirement already satisfied: pytz>=2017.2 in /usr/local/lib/python3.7/dist-packages (from pandas>=1.1.5->bertopic) (2018.9)\n",
            "Requirement already satisfied: python-dateutil>=2.7.3 in /usr/local/lib/python3.7/dist-packages (from pandas>=1.1.5->bertopic) (2.8.1)\n",
            "Requirement already satisfied: numba>=0.49 in /usr/local/lib/python3.7/dist-packages (from umap-learn>=0.5.0->bertopic) (0.51.2)\n",
            "Collecting pynndescent>=0.5\n",
            "\u001b[?25l  Downloading https://files.pythonhosted.org/packages/af/65/8189298dd3a05bbad716ee8e249764ff8800e365d8dc652ad2192ca01b4a/pynndescent-0.5.2.tar.gz (1.1MB)\n",
            "\u001b[K     |████████████████████████████████| 1.2MB 43.4MB/s \n",
            "\u001b[?25hRequirement already satisfied: joblib>=0.11 in /usr/local/lib/python3.7/dist-packages (from scikit-learn>=0.22.2.post1->bertopic) (1.0.1)\n",
            "Requirement already satisfied: cython>=0.27 in /usr/local/lib/python3.7/dist-packages (from hdbscan>=0.8.27->bertopic) (0.29.22)\n",
            "Requirement already satisfied: requests in /usr/local/lib/python3.7/dist-packages (from transformers<5.0.0,>=3.1.0->sentence-transformers>=0.4.1->bertopic) (2.23.0)\n",
            "Collecting sacremoses\n",
            "\u001b[?25l  Downloading https://files.pythonhosted.org/packages/75/ee/67241dc87f266093c533a2d4d3d69438e57d7a90abb216fa076e7d475d4a/sacremoses-0.0.45-py3-none-any.whl (895kB)\n",
            "\u001b[K     |████████████████████████████████| 901kB 45.0MB/s \n",
            "\u001b[?25hRequirement already satisfied: regex!=2019.12.17 in /usr/local/lib/python3.7/dist-packages (from transformers<5.0.0,>=3.1.0->sentence-transformers>=0.4.1->bertopic) (2019.12.20)\n",
            "Requirement already satisfied: importlib-metadata; python_version < \"3.8\" in /usr/local/lib/python3.7/dist-packages (from transformers<5.0.0,>=3.1.0->sentence-transformers>=0.4.1->bertopic) (3.10.1)\n",
            "Requirement already satisfied: packaging in /usr/local/lib/python3.7/dist-packages (from transformers<5.0.0,>=3.1.0->sentence-transformers>=0.4.1->bertopic) (20.9)\n",
            "Requirement already satisfied: filelock in /usr/local/lib/python3.7/dist-packages (from transformers<5.0.0,>=3.1.0->sentence-transformers>=0.4.1->bertopic) (3.0.12)\n",
            "Collecting tokenizers<0.11,>=0.10.1\n",
            "\u001b[?25l  Downloading https://files.pythonhosted.org/packages/ae/04/5b870f26a858552025a62f1649c20d29d2672c02ff3c3fb4c688ca46467a/tokenizers-0.10.2-cp37-cp37m-manylinux2010_x86_64.whl (3.3MB)\n",
            "\u001b[K     |████████████████████████████████| 3.3MB 27.2MB/s \n",
            "\u001b[?25hRequirement already satisfied: typing-extensions in /usr/local/lib/python3.7/dist-packages (from torch>=1.6.0->sentence-transformers>=0.4.1->bertopic) (3.7.4.3)\n",
            "Requirement already satisfied: llvmlite<0.35,>=0.34.0.dev0 in /usr/local/lib/python3.7/dist-packages (from numba>=0.49->umap-learn>=0.5.0->bertopic) (0.34.0)\n",
            "Requirement already satisfied: setuptools in /usr/local/lib/python3.7/dist-packages (from numba>=0.49->umap-learn>=0.5.0->bertopic) (56.1.0)\n",
            "Requirement already satisfied: idna<3,>=2.5 in /usr/local/lib/python3.7/dist-packages (from requests->transformers<5.0.0,>=3.1.0->sentence-transformers>=0.4.1->bertopic) (2.10)\n",
            "Requirement already satisfied: urllib3!=1.25.0,!=1.25.1,<1.26,>=1.21.1 in /usr/local/lib/python3.7/dist-packages (from requests->transformers<5.0.0,>=3.1.0->sentence-transformers>=0.4.1->bertopic) (1.24.3)\n",
            "Requirement already satisfied: chardet<4,>=3.0.2 in /usr/local/lib/python3.7/dist-packages (from requests->transformers<5.0.0,>=3.1.0->sentence-transformers>=0.4.1->bertopic) (3.0.4)\n",
            "Requirement already satisfied: certifi>=2017.4.17 in /usr/local/lib/python3.7/dist-packages (from requests->transformers<5.0.0,>=3.1.0->sentence-transformers>=0.4.1->bertopic) (2020.12.5)\n",
            "Requirement already satisfied: click in /usr/local/lib/python3.7/dist-packages (from sacremoses->transformers<5.0.0,>=3.1.0->sentence-transformers>=0.4.1->bertopic) (7.1.2)\n",
            "Requirement already satisfied: zipp>=0.5 in /usr/local/lib/python3.7/dist-packages (from importlib-metadata; python_version < \"3.8\"->transformers<5.0.0,>=3.1.0->sentence-transformers>=0.4.1->bertopic) (3.4.1)\n",
            "Requirement already satisfied: pyparsing>=2.0.2 in /usr/local/lib/python3.7/dist-packages (from packaging->transformers<5.0.0,>=3.1.0->sentence-transformers>=0.4.1->bertopic) (2.4.7)\n",
            "Building wheels for collected packages: hdbscan\n",
            "  Building wheel for hdbscan (PEP 517) ... \u001b[?25l\u001b[?25hdone\n",
            "  Created wheel for hdbscan: filename=hdbscan-0.8.27-cp37-cp37m-linux_x86_64.whl size=2311700 sha256=649a089db8abff842529d4122860a4bc8e6980086395257df28d8ea093800f4e\n",
            "  Stored in directory: /root/.cache/pip/wheels/42/63/fb/314ad6c3b270887a3ecb588b8e5aac50b0fad38ff89bb6dff2\n",
            "Successfully built hdbscan\n",
            "Building wheels for collected packages: sentence-transformers, umap-learn, pynndescent\n",
            "  Building wheel for sentence-transformers (setup.py) ... \u001b[?25l\u001b[?25hdone\n",
            "  Created wheel for sentence-transformers: filename=sentence_transformers-1.1.0-cp37-none-any.whl size=119615 sha256=4d53d255a55778a1e1a91cc0ee955a66ba6160d0f291b4efdd6f63c648a5f2fa\n",
            "  Stored in directory: /root/.cache/pip/wheels/84/cb/21/1066bff3027215c760ca14a198f698bca8fccb92e33e2327eb\n",
            "  Building wheel for umap-learn (setup.py) ... \u001b[?25l\u001b[?25hdone\n",
            "  Created wheel for umap-learn: filename=umap_learn-0.5.1-cp37-none-any.whl size=76569 sha256=ec785f7a10d8406fb230efb240aa20f3cb76f460b6cbe2e4974dc83323be842c\n",
            "  Stored in directory: /root/.cache/pip/wheels/ad/df/d5/a3691296ff779f25cd1cf415a3af954b987fb53111e3392cf4\n",
            "  Building wheel for pynndescent (setup.py) ... \u001b[?25l\u001b[?25hdone\n",
            "  Created wheel for pynndescent: filename=pynndescent-0.5.2-cp37-none-any.whl size=51351 sha256=b64168676b29a3b6b3583ab391f9a47532e26c72869bc9582edbe56543f6db9c\n",
            "  Stored in directory: /root/.cache/pip/wheels/ba/52/4e/4c28d04d144a28f89e2575fb63628df6e6d49b56c5ddd0c74e\n",
            "Successfully built sentence-transformers umap-learn pynndescent\n",
            "\u001b[31mERROR: tensorflow 2.4.1 has requirement numpy~=1.19.2, but you'll have numpy 1.20.2 which is incompatible.\u001b[0m\n",
            "\u001b[31mERROR: datascience 0.10.6 has requirement folium==0.2.1, but you'll have folium 0.8.3 which is incompatible.\u001b[0m\n",
            "\u001b[31mERROR: albumentations 0.1.12 has requirement imgaug<0.2.7,>=0.2.5, but you'll have imgaug 0.2.9 which is incompatible.\u001b[0m\n",
            "Installing collected packages: sacremoses, numpy, tokenizers, transformers, sentencepiece, sentence-transformers, plotly, pynndescent, umap-learn, hdbscan, bertopic\n",
            "  Found existing installation: numpy 1.19.5\n",
            "    Uninstalling numpy-1.19.5:\n",
            "      Successfully uninstalled numpy-1.19.5\n",
            "  Found existing installation: plotly 4.4.1\n",
            "    Uninstalling plotly-4.4.1:\n",
            "      Successfully uninstalled plotly-4.4.1\n",
            "Successfully installed bertopic-0.7.0 hdbscan-0.8.27 numpy-1.20.2 plotly-4.14.2 pynndescent-0.5.2 sacremoses-0.0.45 sentence-transformers-1.1.0 sentencepiece-0.1.95 tokenizers-0.10.2 transformers-4.5.1 umap-learn-0.5.1\n"
          ],
          "name": "stdout"
        },
        {
          "output_type": "display_data",
          "data": {
            "application/vnd.colab-display-data+json": {
              "pip_warning": {
                "packages": [
                  "numpy"
                ]
              }
            }
          },
          "metadata": {
            "tags": []
          }
        }
      ]
    },
    {
      "cell_type": "markdown",
      "metadata": {
        "id": "DXqeQtb6xM7r"
      },
      "source": [
        "Importing Library"
      ]
    },
    {
      "cell_type": "code",
      "metadata": {
        "id": "qoK1TFl_xEZc"
      },
      "source": [
        "import pandas as pd\n",
        "import numpy as np\n",
        "from copy import deepcopy\n",
        "from bertopic import BERTopic"
      ],
      "execution_count": 1,
      "outputs": []
    },
    {
      "cell_type": "markdown",
      "metadata": {
        "id": "g2e2CDe7Y1ZC"
      },
      "source": [
        "Loading the Data"
      ]
    },
    {
      "cell_type": "code",
      "metadata": {
        "colab": {
          "base_uri": "https://localhost:8080/",
          "height": 195
        },
        "id": "gM2qmgnG1K7L",
        "outputId": "90b47d17-b171-4c7e-da92-7c06102277eb"
      },
      "source": [
        "news_data=pd.read_csv(\"news data.csv\")\n",
        "news_data.head()"
      ],
      "execution_count": 2,
      "outputs": [
        {
          "output_type": "execute_result",
          "data": {
            "text/html": [
              "<div>\n",
              "<style scoped>\n",
              "    .dataframe tbody tr th:only-of-type {\n",
              "        vertical-align: middle;\n",
              "    }\n",
              "\n",
              "    .dataframe tbody tr th {\n",
              "        vertical-align: top;\n",
              "    }\n",
              "\n",
              "    .dataframe thead th {\n",
              "        text-align: right;\n",
              "    }\n",
              "</style>\n",
              "<table border=\"1\" class=\"dataframe\">\n",
              "  <thead>\n",
              "    <tr style=\"text-align: right;\">\n",
              "      <th></th>\n",
              "      <th>neg</th>\n",
              "      <th>neu</th>\n",
              "      <th>pos</th>\n",
              "      <th>compound</th>\n",
              "      <th>news_headlines</th>\n",
              "      <th>label</th>\n",
              "      <th>totalwords</th>\n",
              "    </tr>\n",
              "  </thead>\n",
              "  <tbody>\n",
              "    <tr>\n",
              "      <th>0</th>\n",
              "      <td>0.147</td>\n",
              "      <td>0.686</td>\n",
              "      <td>0.167</td>\n",
              "      <td>0.0516</td>\n",
              "      <td>Thousands of Amazon workers demand time off to...</td>\n",
              "      <td>0</td>\n",
              "      <td>9</td>\n",
              "    </tr>\n",
              "    <tr>\n",
              "      <th>1</th>\n",
              "      <td>0.135</td>\n",
              "      <td>0.702</td>\n",
              "      <td>0.164</td>\n",
              "      <td>0.1280</td>\n",
              "      <td>United CEO doubles down in email to employees,...</td>\n",
              "      <td>1</td>\n",
              "      <td>14</td>\n",
              "    </tr>\n",
              "    <tr>\n",
              "      <th>2</th>\n",
              "      <td>0.000</td>\n",
              "      <td>1.000</td>\n",
              "      <td>0.000</td>\n",
              "      <td>0.0000</td>\n",
              "      <td>For the first time in 25 years New York City d...</td>\n",
              "      <td>0</td>\n",
              "      <td>18</td>\n",
              "    </tr>\n",
              "    <tr>\n",
              "      <th>3</th>\n",
              "      <td>0.423</td>\n",
              "      <td>0.577</td>\n",
              "      <td>0.000</td>\n",
              "      <td>-0.6597</td>\n",
              "      <td>Biden calls mass killing of Armenians genocide</td>\n",
              "      <td>-1</td>\n",
              "      <td>7</td>\n",
              "    </tr>\n",
              "    <tr>\n",
              "      <th>4</th>\n",
              "      <td>0.373</td>\n",
              "      <td>0.508</td>\n",
              "      <td>0.119</td>\n",
              "      <td>-0.7184</td>\n",
              "      <td>Tennessee Police Officers Could Be Charged Wit...</td>\n",
              "      <td>-1</td>\n",
              "      <td>17</td>\n",
              "    </tr>\n",
              "  </tbody>\n",
              "</table>\n",
              "</div>"
            ],
            "text/plain": [
              "     neg    neu  ...  label  totalwords\n",
              "0  0.147  0.686  ...      0           9\n",
              "1  0.135  0.702  ...      1          14\n",
              "2  0.000  1.000  ...      0          18\n",
              "3  0.423  0.577  ...     -1           7\n",
              "4  0.373  0.508  ...     -1          17\n",
              "\n",
              "[5 rows x 7 columns]"
            ]
          },
          "metadata": {
            "tags": []
          },
          "execution_count": 2
        }
      ]
    },
    {
      "cell_type": "code",
      "metadata": {
        "colab": {
          "base_uri": "https://localhost:8080/",
          "height": 195
        },
        "id": "KqtrtdrI2I9z",
        "outputId": "354224f4-8b41-4b76-aaa6-61a182d9aeee"
      },
      "source": [
        "news_df=news_data.drop([\"neg\",\"neu\",\"pos\",\"compound\",\"label\"], axis=1)\n",
        "news_df.head()"
      ],
      "execution_count": 3,
      "outputs": [
        {
          "output_type": "execute_result",
          "data": {
            "text/html": [
              "<div>\n",
              "<style scoped>\n",
              "    .dataframe tbody tr th:only-of-type {\n",
              "        vertical-align: middle;\n",
              "    }\n",
              "\n",
              "    .dataframe tbody tr th {\n",
              "        vertical-align: top;\n",
              "    }\n",
              "\n",
              "    .dataframe thead th {\n",
              "        text-align: right;\n",
              "    }\n",
              "</style>\n",
              "<table border=\"1\" class=\"dataframe\">\n",
              "  <thead>\n",
              "    <tr style=\"text-align: right;\">\n",
              "      <th></th>\n",
              "      <th>news_headlines</th>\n",
              "      <th>totalwords</th>\n",
              "    </tr>\n",
              "  </thead>\n",
              "  <tbody>\n",
              "    <tr>\n",
              "      <th>0</th>\n",
              "      <td>Thousands of Amazon workers demand time off to...</td>\n",
              "      <td>9</td>\n",
              "    </tr>\n",
              "    <tr>\n",
              "      <th>1</th>\n",
              "      <td>United CEO doubles down in email to employees,...</td>\n",
              "      <td>14</td>\n",
              "    </tr>\n",
              "    <tr>\n",
              "      <th>2</th>\n",
              "      <td>For the first time in 25 years New York City d...</td>\n",
              "      <td>18</td>\n",
              "    </tr>\n",
              "    <tr>\n",
              "      <th>3</th>\n",
              "      <td>Biden calls mass killing of Armenians genocide</td>\n",
              "      <td>7</td>\n",
              "    </tr>\n",
              "    <tr>\n",
              "      <th>4</th>\n",
              "      <td>Tennessee Police Officers Could Be Charged Wit...</td>\n",
              "      <td>17</td>\n",
              "    </tr>\n",
              "  </tbody>\n",
              "</table>\n",
              "</div>"
            ],
            "text/plain": [
              "                                      news_headlines  totalwords\n",
              "0  Thousands of Amazon workers demand time off to...           9\n",
              "1  United CEO doubles down in email to employees,...          14\n",
              "2  For the first time in 25 years New York City d...          18\n",
              "3     Biden calls mass killing of Armenians genocide           7\n",
              "4  Tennessee Police Officers Could Be Charged Wit...          17"
            ]
          },
          "metadata": {
            "tags": []
          },
          "execution_count": 3
        }
      ]
    },
    {
      "cell_type": "markdown",
      "metadata": {
        "id": "WUuaH3Z_YvK9"
      },
      "source": [
        "Transforming to Lists"
      ]
    },
    {
      "cell_type": "code",
      "metadata": {
        "id": "dbfDgxCU2P5q"
      },
      "source": [
        "document=list(news_df.loc[:,\"news_headlines\"].values)"
      ],
      "execution_count": 8,
      "outputs": []
    },
    {
      "cell_type": "markdown",
      "metadata": {
        "id": "EqZCmcNoCUqq"
      },
      "source": [
        "Data Preprocessing"
      ]
    },
    {
      "cell_type": "code",
      "metadata": {
        "colab": {
          "base_uri": "https://localhost:8080/"
        },
        "id": "XE_SpY3_3Wjs",
        "outputId": "1d4bf45e-873d-41f7-be67-ae9da8125174"
      },
      "source": [
        "document[:5]"
      ],
      "execution_count": 11,
      "outputs": [
        {
          "output_type": "execute_result",
          "data": {
            "text/plain": [
              "['Thousands of Amazon workers demand time off to vote',\n",
              " \"United CEO doubles down in email to employees, says passenger was 'disruptive and belligerent'\",\n",
              " \"For the first time in 25 years New York City didn't have a single shooting over the weekend\",\n",
              " 'Biden calls mass killing of Armenians genocide',\n",
              " 'Tennessee Police Officers Could Be Charged With A Felony For Turning Off Body Cams In Bad Faith']"
            ]
          },
          "metadata": {
            "tags": []
          },
          "execution_count": 11
        }
      ]
    },
    {
      "cell_type": "markdown",
      "metadata": {
        "id": "URGAo1sl3c0T"
      },
      "source": [
        "Creating Topics by building model"
      ]
    },
    {
      "cell_type": "code",
      "metadata": {
        "id": "L6yY6RvT3bi6"
      },
      "source": [
        "Bmodel = BERTopic(language=\"english\")"
      ],
      "execution_count": 12,
      "outputs": []
    },
    {
      "cell_type": "code",
      "metadata": {
        "colab": {
          "base_uri": "https://localhost:8080/",
          "height": 66,
          "referenced_widgets": [
            "e9f7bb7165654c519d0606fc6cac9aa1",
            "d78ff5e16f6047b5975d42a0115068cc",
            "6aae672494e9468ea523ffe4195cc34c",
            "854c7fdf181c4452a150f67532a91c03",
            "fd64893b2ceb47598981e1b514e0ccdc",
            "66448f73e47b44d8a7f9b55b31e5d0d1",
            "07c35e1b221643c08c8325f36b9e72db",
            "cf8260d8aacf401d8e7a1b94dc23cc1f"
          ]
        },
        "id": "Palvi1Yo3nGD",
        "outputId": "438a3836-e87b-44e5-a2ae-87f80dfa85ed"
      },
      "source": [
        "topics,probs = Bmodel.fit_transform(document)"
      ],
      "execution_count": 13,
      "outputs": [
        {
          "output_type": "display_data",
          "data": {
            "application/vnd.jupyter.widget-view+json": {
              "model_id": "e9f7bb7165654c519d0606fc6cac9aa1",
              "version_minor": 0,
              "version_major": 2
            },
            "text/plain": [
              "HBox(children=(FloatProgress(value=0.0, max=244715968.0), HTML(value='')))"
            ]
          },
          "metadata": {
            "tags": []
          }
        },
        {
          "output_type": "stream",
          "text": [
            "\n"
          ],
          "name": "stdout"
        }
      ]
    },
    {
      "cell_type": "markdown",
      "metadata": {
        "id": "DHOqhF4e3wej"
      },
      "source": [
        "Extracting the most frequent topics"
      ]
    },
    {
      "cell_type": "code",
      "metadata": {
        "colab": {
          "base_uri": "https://localhost:8080/",
          "height": 698
        },
        "id": "OCVfBJf9BSG5",
        "outputId": "4ab859b1-2a69-46e0-f2de-631c3ad973a7"
      },
      "source": [
        "Bmodel.get_topic_freq()"
      ],
      "execution_count": 15,
      "outputs": [
        {
          "output_type": "execute_result",
          "data": {
            "text/html": [
              "<div>\n",
              "<style scoped>\n",
              "    .dataframe tbody tr th:only-of-type {\n",
              "        vertical-align: middle;\n",
              "    }\n",
              "\n",
              "    .dataframe tbody tr th {\n",
              "        vertical-align: top;\n",
              "    }\n",
              "\n",
              "    .dataframe thead th {\n",
              "        text-align: right;\n",
              "    }\n",
              "</style>\n",
              "<table border=\"1\" class=\"dataframe\">\n",
              "  <thead>\n",
              "    <tr style=\"text-align: right;\">\n",
              "      <th></th>\n",
              "      <th>Topic</th>\n",
              "      <th>Count</th>\n",
              "    </tr>\n",
              "  </thead>\n",
              "  <tbody>\n",
              "    <tr>\n",
              "      <th>0</th>\n",
              "      <td>-1</td>\n",
              "      <td>521</td>\n",
              "    </tr>\n",
              "    <tr>\n",
              "      <th>1</th>\n",
              "      <td>10</td>\n",
              "      <td>44</td>\n",
              "    </tr>\n",
              "    <tr>\n",
              "      <th>2</th>\n",
              "      <td>9</td>\n",
              "      <td>42</td>\n",
              "    </tr>\n",
              "    <tr>\n",
              "      <th>3</th>\n",
              "      <td>3</td>\n",
              "      <td>39</td>\n",
              "    </tr>\n",
              "    <tr>\n",
              "      <th>4</th>\n",
              "      <td>7</td>\n",
              "      <td>39</td>\n",
              "    </tr>\n",
              "    <tr>\n",
              "      <th>5</th>\n",
              "      <td>16</td>\n",
              "      <td>32</td>\n",
              "    </tr>\n",
              "    <tr>\n",
              "      <th>6</th>\n",
              "      <td>20</td>\n",
              "      <td>27</td>\n",
              "    </tr>\n",
              "    <tr>\n",
              "      <th>7</th>\n",
              "      <td>17</td>\n",
              "      <td>25</td>\n",
              "    </tr>\n",
              "    <tr>\n",
              "      <th>8</th>\n",
              "      <td>0</td>\n",
              "      <td>25</td>\n",
              "    </tr>\n",
              "    <tr>\n",
              "      <th>9</th>\n",
              "      <td>13</td>\n",
              "      <td>22</td>\n",
              "    </tr>\n",
              "    <tr>\n",
              "      <th>10</th>\n",
              "      <td>5</td>\n",
              "      <td>21</td>\n",
              "    </tr>\n",
              "    <tr>\n",
              "      <th>11</th>\n",
              "      <td>18</td>\n",
              "      <td>18</td>\n",
              "    </tr>\n",
              "    <tr>\n",
              "      <th>12</th>\n",
              "      <td>15</td>\n",
              "      <td>17</td>\n",
              "    </tr>\n",
              "    <tr>\n",
              "      <th>13</th>\n",
              "      <td>11</td>\n",
              "      <td>17</td>\n",
              "    </tr>\n",
              "    <tr>\n",
              "      <th>14</th>\n",
              "      <td>8</td>\n",
              "      <td>16</td>\n",
              "    </tr>\n",
              "    <tr>\n",
              "      <th>15</th>\n",
              "      <td>19</td>\n",
              "      <td>16</td>\n",
              "    </tr>\n",
              "    <tr>\n",
              "      <th>16</th>\n",
              "      <td>1</td>\n",
              "      <td>16</td>\n",
              "    </tr>\n",
              "    <tr>\n",
              "      <th>17</th>\n",
              "      <td>6</td>\n",
              "      <td>13</td>\n",
              "    </tr>\n",
              "    <tr>\n",
              "      <th>18</th>\n",
              "      <td>4</td>\n",
              "      <td>13</td>\n",
              "    </tr>\n",
              "    <tr>\n",
              "      <th>19</th>\n",
              "      <td>12</td>\n",
              "      <td>11</td>\n",
              "    </tr>\n",
              "    <tr>\n",
              "      <th>20</th>\n",
              "      <td>2</td>\n",
              "      <td>11</td>\n",
              "    </tr>\n",
              "    <tr>\n",
              "      <th>21</th>\n",
              "      <td>14</td>\n",
              "      <td>10</td>\n",
              "    </tr>\n",
              "  </tbody>\n",
              "</table>\n",
              "</div>"
            ],
            "text/plain": [
              "    Topic  Count\n",
              "0      -1    521\n",
              "1      10     44\n",
              "2       9     42\n",
              "3       3     39\n",
              "4       7     39\n",
              "5      16     32\n",
              "6      20     27\n",
              "7      17     25\n",
              "8       0     25\n",
              "9      13     22\n",
              "10      5     21\n",
              "11     18     18\n",
              "12     15     17\n",
              "13     11     17\n",
              "14      8     16\n",
              "15     19     16\n",
              "16      1     16\n",
              "17      6     13\n",
              "18      4     13\n",
              "19     12     11\n",
              "20      2     11\n",
              "21     14     10"
            ]
          },
          "metadata": {
            "tags": []
          },
          "execution_count": 15
        }
      ]
    },
    {
      "cell_type": "markdown",
      "metadata": {
        "id": "wLFL8uaWBuYH"
      },
      "source": [
        "Getting details of the Individual Topics"
      ]
    },
    {
      "cell_type": "code",
      "metadata": {
        "colab": {
          "base_uri": "https://localhost:8080/"
        },
        "id": "OcYXTpibBlm3",
        "outputId": "8ad6098e-a2e2-40f3-e964-20f5f352db46"
      },
      "source": [
        "Bmodel.get_topic(0)"
      ],
      "execution_count": 16,
      "outputs": [
        {
          "output_type": "execute_result",
          "data": {
            "text/plain": [
              "[('covid19', 0.19578945276261092),\n",
              " ('vaccine', 0.052067573666223),\n",
              " ('vaccination', 0.0367376458651706),\n",
              " ('scientist', 0.034711715777482),\n",
              " ('covid', 0.030770759524415645),\n",
              " ('covidrelated', 0.022237176061698363),\n",
              " ('stadiums', 0.022237176061698363),\n",
              " ('vaccinating', 0.022237176061698363),\n",
              " ('negligence', 0.022237176061698363),\n",
              " ('pandemic', 0.022237176061698363)]"
            ]
          },
          "metadata": {
            "tags": []
          },
          "execution_count": 16
        }
      ]
    },
    {
      "cell_type": "code",
      "metadata": {
        "colab": {
          "base_uri": "https://localhost:8080/"
        },
        "id": "b3fa4ACNB6nH",
        "outputId": "7f607d24-04a9-430c-c752-f391d8d71362"
      },
      "source": [
        "Bmodel.get_topic(1)"
      ],
      "execution_count": 18,
      "outputs": [
        {
          "output_type": "execute_result",
          "data": {
            "text/plain": [
              "[('floyd', 0.14640135419098976),\n",
              " ('floyds', 0.1312009522960066),\n",
              " ('knelt', 0.04616589126419668),\n",
              " ('four', 0.04164531052290473),\n",
              " ('neck', 0.04164531052290473),\n",
              " ('custody', 0.0374859863702876),\n",
              " ('examiner', 0.02794406195363865),\n",
              " ('monument', 0.02794406195363865),\n",
              " ('excop', 0.02794406195363865),\n",
              " ('chouviat', 0.02794406195363865)]"
            ]
          },
          "metadata": {
            "tags": []
          },
          "execution_count": 18
        }
      ]
    },
    {
      "cell_type": "code",
      "metadata": {
        "colab": {
          "base_uri": "https://localhost:8080/"
        },
        "id": "ANYVA8DUkkZQ",
        "outputId": "401bf7d5-7e5b-4bd8-9fee-147a3f6674d1"
      },
      "source": [
        "Bmodel.get_topic(2)"
      ],
      "execution_count": 19,
      "outputs": [
        {
          "output_type": "execute_result",
          "data": {
            "text/plain": [
              "[('10', 0.1629198638400961),\n",
              " ('canada', 0.05601856221111566),\n",
              " ('cbc', 0.04048306411232266),\n",
              " ('pulitzer', 0.04048306411232266),\n",
              " ('algorithm', 0.04048306411232266),\n",
              " ('shake', 0.04048306411232266),\n",
              " ('agricultural', 0.04048306411232266),\n",
              " ('classaction', 0.04048306411232266),\n",
              " ('scotia', 0.04048306411232266),\n",
              " ('scholarship', 0.04048306411232266)]"
            ]
          },
          "metadata": {
            "tags": []
          },
          "execution_count": 19
        }
      ]
    },
    {
      "cell_type": "code",
      "metadata": {
        "colab": {
          "base_uri": "https://localhost:8080/"
        },
        "id": "I_qLqM0CknmP",
        "outputId": "fc6ca565-ad82-43ec-e6df-7c9b438b7a44"
      },
      "source": [
        "Bmodel.get_topic(3)"
      ],
      "execution_count": 20,
      "outputs": [
        {
          "output_type": "execute_result",
          "data": {
            "text/plain": [
              "[('dies', 0.12809497230154637),\n",
              " ('dead', 0.07295880720809547),\n",
              " ('cancer', 0.0631393079956209),\n",
              " ('died', 0.04783165738277636),\n",
              " ('aged', 0.04299515697407329),\n",
              " ('65', 0.0308912682470461),\n",
              " ('limbaugh', 0.0308912682470461),\n",
              " ('92', 0.028663437982715523),\n",
              " ('911', 0.024007955233335286),\n",
              " ('president', 0.019820372529780906)]"
            ]
          },
          "metadata": {
            "tags": []
          },
          "execution_count": 20
        }
      ]
    },
    {
      "cell_type": "markdown",
      "metadata": {
        "id": "XdiF_BSwCSOX"
      },
      "source": [
        "Visualize Topics"
      ]
    },
    {
      "cell_type": "code",
      "metadata": {
        "colab": {
          "base_uri": "https://localhost:8080/",
          "height": 667
        },
        "id": "YVKssOO4CXeC",
        "outputId": "3a7f390a-b9a0-4585-d4ba-0216ade3eae6"
      },
      "source": [
        "Bmodel.visualize_topics()"
      ],
      "execution_count": 21,
      "outputs": [
        {
          "output_type": "display_data",
          "data": {
            "text/html": [
              "<html>\n",
              "<head><meta charset=\"utf-8\" /></head>\n",
              "<body>\n",
              "    <div>            <script src=\"https://cdnjs.cloudflare.com/ajax/libs/mathjax/2.7.5/MathJax.js?config=TeX-AMS-MML_SVG\"></script><script type=\"text/javascript\">if (window.MathJax) {MathJax.Hub.Config({SVG: {font: \"STIX-Web\"}});}</script>                <script type=\"text/javascript\">window.PlotlyConfig = {MathJaxConfig: 'local'};</script>\n",
              "        <script src=\"https://cdn.plot.ly/plotly-latest.min.js\"></script>                <div id=\"34f15bf8-1db7-4da5-ad10-36884b9391b4\" class=\"plotly-graph-div\" style=\"height:650px; width:650px;\"></div>            <script type=\"text/javascript\">                                    window.PLOTLYENV=window.PLOTLYENV || {};                                    if (document.getElementById(\"34f15bf8-1db7-4da5-ad10-36884b9391b4\")) {                    Plotly.newPlot(                        \"34f15bf8-1db7-4da5-ad10-36884b9391b4\",                        [{\"customdata\": [[7.289312839508057, 11.52661418914795, 0, \"covid19 | vaccine | vaccination | scientist | covid\", 25], [6.975941181182861, 9.386008262634277, 1, \"floyd | floyds | knelt | four | neck\", 16], [7.051969051361084, 11.748160362243652, 2, \"10 | canada | cbc | pulitzer | algorithm\", 11], [7.683715343475342, 11.435653686523438, 3, \"dies | dead | cancer | died | aged\", 39], [12.299589157104492, -0.7899596095085144, 4, \"kenosha | jake | rittenhouse | deportation | british\", 13], [6.841148376464844, 9.545059204101562, 5, \"taylor | boyfriend | maxwell | taylors | police\", 21], [-3.6331191062927246, -0.2992440462112427, 6, \"biden | harris | kamala | electoral | 270vote\", 13], [13.157553672790527, -1.4884449243545532, 7, \"marijuana | decriminalizes | magic | cannabis | mushrooms\", 39], [6.475528240203857, 9.422003746032715, 8, \"proud | boys | son | father | papa\", 16], [12.72497844696045, -0.597247838973999, 9, \"sex | trafficking | kelly | epstein | jeffrey\", 42], [13.15308952331543, -1.2662327289581299, 10, \"california | portland | ban | bans | noknock\", 44], [7.242461204528809, 10.851264953613281, 11, \"coughed | baby | shes | school | beaten\", 17], [6.059237957000732, 10.409661293029785, 12, \"giant | billion | skyrocket | sonic | 3000\", 11], [11.21815013885498, -0.7578248977661133, 13, \"presidential | 2020 | trump | drops | strategist\", 22], [-3.5272414684295654, -0.19559262692928314, 14, \"kohls | deniers | denmark | boycotts | bath\", 10], [6.981075763702393, 10.18559455871582, 15, \"killed | raped | handcuffed | home | parents\", 17], [12.410591125488281, -0.9594614505767822, 16, \"black | fired | buffalo | cops | mayor\", 32], [11.376818656921387, -1.0830386877059937, 17, \"trump | pardons | president | donald | impeached\", 25], [11.787822723388672, -1.0015140771865845, 18, \"capitol | arrested | riot | rioter | fbi\", 18], [6.341994762420654, 10.392857551574707, 19, \"amazon | workers | employees | brazil | strike\", 16], [7.527142524719238, 11.833094596862793, 20, \"facebook | twitter | youtube | suspends | permanently\", 27]], \"hovertemplate\": \"<b>Topic %{customdata[2]}</b><br>Words: %{customdata[3]}<br>Size: %{customdata[4]}\", \"legendgroup\": \"\", \"marker\": {\"color\": \"#B0BEC5\", \"line\": {\"color\": \"DarkSlateGrey\", \"width\": 2}, \"size\": [25, 16, 11, 39, 13, 21, 13, 39, 16, 42, 44, 17, 11, 22, 10, 17, 32, 25, 18, 16, 27], \"sizemode\": \"area\", \"sizeref\": 0.0275, \"symbol\": \"circle\"}, \"mode\": \"markers\", \"name\": \"\", \"orientation\": \"v\", \"showlegend\": false, \"type\": \"scatter\", \"x\": [7.289312839508057, 6.975941181182861, 7.051969051361084, 7.683715343475342, 12.299589157104492, 6.841148376464844, -3.6331191062927246, 13.157553672790527, 6.475528240203857, 12.72497844696045, 13.15308952331543, 7.242461204528809, 6.059237957000732, 11.21815013885498, -3.5272414684295654, 6.981075763702393, 12.410591125488281, 11.376818656921387, 11.787822723388672, 6.341994762420654, 7.527142524719238], \"xaxis\": \"x\", \"y\": [11.52661418914795, 9.386008262634277, 11.748160362243652, 11.435653686523438, -0.7899596095085144, 9.545059204101562, -0.2992440462112427, -1.4884449243545532, 9.422003746032715, -0.597247838973999, -1.2662327289581299, 10.851264953613281, 10.409661293029785, -0.7578248977661133, -0.19559262692928314, 10.18559455871582, -0.9594614505767822, -1.0830386877059937, -1.0015140771865845, 10.392857551574707, 11.833094596862793], \"yaxis\": \"y\"}],                        {\"annotations\": [{\"showarrow\": false, \"text\": \"D1\", \"x\": -4.178086972236633, \"y\": 5.948173561692237, \"yshift\": 10}, {\"showarrow\": false, \"text\": \"D2\", \"x\": 5.476549875736237, \"xshift\": 10, \"y\": 13.608058786392212}], \"height\": 650, \"hoverlabel\": {\"bgcolor\": \"white\", \"font\": {\"family\": \"Rockwell\", \"size\": 16}}, \"legend\": {\"itemsizing\": \"constant\", \"tracegroupgap\": 0}, \"margin\": {\"t\": 60}, \"shapes\": [{\"line\": {\"color\": \"#CFD8DC\", \"width\": 2}, \"type\": \"line\", \"x0\": 5.476549875736237, \"x1\": 5.476549875736237, \"y0\": -1.7117116630077363, \"y1\": 13.608058786392212}, {\"line\": {\"color\": \"#9E9E9E\", \"width\": 2}, \"type\": \"line\", \"x0\": -4.178086972236633, \"x1\": 15.131186723709106, \"y0\": 5.948173561692237, \"y1\": 5.948173561692237}], \"sliders\": [{\"active\": 0, \"pad\": {\"t\": 50}, \"steps\": [{\"args\": [{\"marker.color\": [[\"red\", \"#B0BEC5\", \"#B0BEC5\", \"#B0BEC5\", \"#B0BEC5\", \"#B0BEC5\", \"#B0BEC5\", \"#B0BEC5\", \"#B0BEC5\", \"#B0BEC5\", \"#B0BEC5\", \"#B0BEC5\", \"#B0BEC5\", \"#B0BEC5\", \"#B0BEC5\", \"#B0BEC5\", \"#B0BEC5\", \"#B0BEC5\", \"#B0BEC5\", \"#B0BEC5\", \"#B0BEC5\"]]}], \"label\": \"Topic 0\", \"method\": \"update\"}, {\"args\": [{\"marker.color\": [[\"#B0BEC5\", \"red\", \"#B0BEC5\", \"#B0BEC5\", \"#B0BEC5\", \"#B0BEC5\", \"#B0BEC5\", \"#B0BEC5\", \"#B0BEC5\", \"#B0BEC5\", \"#B0BEC5\", \"#B0BEC5\", \"#B0BEC5\", \"#B0BEC5\", \"#B0BEC5\", \"#B0BEC5\", \"#B0BEC5\", \"#B0BEC5\", \"#B0BEC5\", \"#B0BEC5\", \"#B0BEC5\"]]}], \"label\": \"Topic 1\", \"method\": \"update\"}, {\"args\": [{\"marker.color\": [[\"#B0BEC5\", \"#B0BEC5\", \"red\", \"#B0BEC5\", \"#B0BEC5\", \"#B0BEC5\", \"#B0BEC5\", \"#B0BEC5\", \"#B0BEC5\", \"#B0BEC5\", \"#B0BEC5\", \"#B0BEC5\", \"#B0BEC5\", \"#B0BEC5\", \"#B0BEC5\", \"#B0BEC5\", \"#B0BEC5\", \"#B0BEC5\", \"#B0BEC5\", \"#B0BEC5\", \"#B0BEC5\"]]}], \"label\": \"Topic 2\", \"method\": \"update\"}, {\"args\": [{\"marker.color\": [[\"#B0BEC5\", \"#B0BEC5\", \"#B0BEC5\", \"red\", \"#B0BEC5\", \"#B0BEC5\", \"#B0BEC5\", \"#B0BEC5\", \"#B0BEC5\", \"#B0BEC5\", \"#B0BEC5\", \"#B0BEC5\", \"#B0BEC5\", \"#B0BEC5\", \"#B0BEC5\", \"#B0BEC5\", \"#B0BEC5\", \"#B0BEC5\", \"#B0BEC5\", \"#B0BEC5\", \"#B0BEC5\"]]}], \"label\": \"Topic 3\", \"method\": \"update\"}, {\"args\": [{\"marker.color\": [[\"#B0BEC5\", \"#B0BEC5\", \"#B0BEC5\", \"#B0BEC5\", \"red\", \"#B0BEC5\", \"#B0BEC5\", \"#B0BEC5\", \"#B0BEC5\", \"#B0BEC5\", \"#B0BEC5\", \"#B0BEC5\", \"#B0BEC5\", \"#B0BEC5\", \"#B0BEC5\", \"#B0BEC5\", \"#B0BEC5\", \"#B0BEC5\", \"#B0BEC5\", \"#B0BEC5\", \"#B0BEC5\"]]}], \"label\": \"Topic 4\", \"method\": \"update\"}, {\"args\": [{\"marker.color\": [[\"#B0BEC5\", \"#B0BEC5\", \"#B0BEC5\", \"#B0BEC5\", \"#B0BEC5\", \"red\", \"#B0BEC5\", \"#B0BEC5\", \"#B0BEC5\", \"#B0BEC5\", \"#B0BEC5\", \"#B0BEC5\", \"#B0BEC5\", \"#B0BEC5\", \"#B0BEC5\", \"#B0BEC5\", \"#B0BEC5\", \"#B0BEC5\", \"#B0BEC5\", \"#B0BEC5\", \"#B0BEC5\"]]}], \"label\": \"Topic 5\", \"method\": \"update\"}, {\"args\": [{\"marker.color\": [[\"#B0BEC5\", \"#B0BEC5\", \"#B0BEC5\", \"#B0BEC5\", \"#B0BEC5\", \"#B0BEC5\", \"red\", \"#B0BEC5\", \"#B0BEC5\", \"#B0BEC5\", \"#B0BEC5\", \"#B0BEC5\", \"#B0BEC5\", \"#B0BEC5\", \"#B0BEC5\", \"#B0BEC5\", \"#B0BEC5\", \"#B0BEC5\", \"#B0BEC5\", \"#B0BEC5\", \"#B0BEC5\"]]}], \"label\": \"Topic 6\", \"method\": \"update\"}, {\"args\": [{\"marker.color\": [[\"#B0BEC5\", \"#B0BEC5\", \"#B0BEC5\", \"#B0BEC5\", \"#B0BEC5\", \"#B0BEC5\", \"#B0BEC5\", \"red\", \"#B0BEC5\", \"#B0BEC5\", \"#B0BEC5\", \"#B0BEC5\", \"#B0BEC5\", \"#B0BEC5\", \"#B0BEC5\", \"#B0BEC5\", \"#B0BEC5\", \"#B0BEC5\", \"#B0BEC5\", \"#B0BEC5\", \"#B0BEC5\"]]}], \"label\": \"Topic 7\", \"method\": \"update\"}, {\"args\": [{\"marker.color\": [[\"#B0BEC5\", \"#B0BEC5\", \"#B0BEC5\", \"#B0BEC5\", \"#B0BEC5\", \"#B0BEC5\", \"#B0BEC5\", \"#B0BEC5\", \"red\", \"#B0BEC5\", \"#B0BEC5\", \"#B0BEC5\", \"#B0BEC5\", \"#B0BEC5\", \"#B0BEC5\", \"#B0BEC5\", \"#B0BEC5\", \"#B0BEC5\", \"#B0BEC5\", \"#B0BEC5\", \"#B0BEC5\"]]}], \"label\": \"Topic 8\", \"method\": \"update\"}, {\"args\": [{\"marker.color\": [[\"#B0BEC5\", \"#B0BEC5\", \"#B0BEC5\", \"#B0BEC5\", \"#B0BEC5\", \"#B0BEC5\", \"#B0BEC5\", \"#B0BEC5\", \"#B0BEC5\", \"red\", \"#B0BEC5\", \"#B0BEC5\", \"#B0BEC5\", \"#B0BEC5\", \"#B0BEC5\", \"#B0BEC5\", \"#B0BEC5\", \"#B0BEC5\", \"#B0BEC5\", \"#B0BEC5\", \"#B0BEC5\"]]}], \"label\": \"Topic 9\", \"method\": \"update\"}, {\"args\": [{\"marker.color\": [[\"#B0BEC5\", \"#B0BEC5\", \"#B0BEC5\", \"#B0BEC5\", \"#B0BEC5\", \"#B0BEC5\", \"#B0BEC5\", \"#B0BEC5\", \"#B0BEC5\", \"#B0BEC5\", \"red\", \"#B0BEC5\", \"#B0BEC5\", \"#B0BEC5\", \"#B0BEC5\", \"#B0BEC5\", \"#B0BEC5\", \"#B0BEC5\", \"#B0BEC5\", \"#B0BEC5\", \"#B0BEC5\"]]}], \"label\": \"Topic 10\", \"method\": \"update\"}, {\"args\": [{\"marker.color\": [[\"#B0BEC5\", \"#B0BEC5\", \"#B0BEC5\", \"#B0BEC5\", \"#B0BEC5\", \"#B0BEC5\", \"#B0BEC5\", \"#B0BEC5\", \"#B0BEC5\", \"#B0BEC5\", \"#B0BEC5\", \"red\", \"#B0BEC5\", \"#B0BEC5\", \"#B0BEC5\", \"#B0BEC5\", \"#B0BEC5\", \"#B0BEC5\", \"#B0BEC5\", \"#B0BEC5\", \"#B0BEC5\"]]}], \"label\": \"Topic 11\", \"method\": \"update\"}, {\"args\": [{\"marker.color\": [[\"#B0BEC5\", \"#B0BEC5\", \"#B0BEC5\", \"#B0BEC5\", \"#B0BEC5\", \"#B0BEC5\", \"#B0BEC5\", \"#B0BEC5\", \"#B0BEC5\", \"#B0BEC5\", \"#B0BEC5\", \"#B0BEC5\", \"red\", \"#B0BEC5\", \"#B0BEC5\", \"#B0BEC5\", \"#B0BEC5\", \"#B0BEC5\", \"#B0BEC5\", \"#B0BEC5\", \"#B0BEC5\"]]}], \"label\": \"Topic 12\", \"method\": \"update\"}, {\"args\": [{\"marker.color\": [[\"#B0BEC5\", \"#B0BEC5\", \"#B0BEC5\", \"#B0BEC5\", \"#B0BEC5\", \"#B0BEC5\", \"#B0BEC5\", \"#B0BEC5\", \"#B0BEC5\", \"#B0BEC5\", \"#B0BEC5\", \"#B0BEC5\", \"#B0BEC5\", \"red\", \"#B0BEC5\", \"#B0BEC5\", \"#B0BEC5\", \"#B0BEC5\", \"#B0BEC5\", \"#B0BEC5\", \"#B0BEC5\"]]}], \"label\": \"Topic 13\", \"method\": \"update\"}, {\"args\": [{\"marker.color\": [[\"#B0BEC5\", \"#B0BEC5\", \"#B0BEC5\", \"#B0BEC5\", \"#B0BEC5\", \"#B0BEC5\", \"#B0BEC5\", \"#B0BEC5\", \"#B0BEC5\", \"#B0BEC5\", \"#B0BEC5\", \"#B0BEC5\", \"#B0BEC5\", \"#B0BEC5\", \"red\", \"#B0BEC5\", \"#B0BEC5\", \"#B0BEC5\", \"#B0BEC5\", \"#B0BEC5\", \"#B0BEC5\"]]}], \"label\": \"Topic 14\", \"method\": \"update\"}, {\"args\": [{\"marker.color\": [[\"#B0BEC5\", \"#B0BEC5\", \"#B0BEC5\", \"#B0BEC5\", \"#B0BEC5\", \"#B0BEC5\", \"#B0BEC5\", \"#B0BEC5\", \"#B0BEC5\", \"#B0BEC5\", \"#B0BEC5\", \"#B0BEC5\", \"#B0BEC5\", \"#B0BEC5\", \"#B0BEC5\", \"red\", \"#B0BEC5\", \"#B0BEC5\", \"#B0BEC5\", \"#B0BEC5\", \"#B0BEC5\"]]}], \"label\": \"Topic 15\", \"method\": \"update\"}, {\"args\": [{\"marker.color\": [[\"#B0BEC5\", \"#B0BEC5\", \"#B0BEC5\", \"#B0BEC5\", \"#B0BEC5\", \"#B0BEC5\", \"#B0BEC5\", \"#B0BEC5\", \"#B0BEC5\", \"#B0BEC5\", \"#B0BEC5\", \"#B0BEC5\", \"#B0BEC5\", \"#B0BEC5\", \"#B0BEC5\", \"#B0BEC5\", \"red\", \"#B0BEC5\", \"#B0BEC5\", \"#B0BEC5\", \"#B0BEC5\"]]}], \"label\": \"Topic 16\", \"method\": \"update\"}, {\"args\": [{\"marker.color\": [[\"#B0BEC5\", \"#B0BEC5\", \"#B0BEC5\", \"#B0BEC5\", \"#B0BEC5\", \"#B0BEC5\", \"#B0BEC5\", \"#B0BEC5\", \"#B0BEC5\", \"#B0BEC5\", \"#B0BEC5\", \"#B0BEC5\", \"#B0BEC5\", \"#B0BEC5\", \"#B0BEC5\", \"#B0BEC5\", \"#B0BEC5\", \"red\", \"#B0BEC5\", \"#B0BEC5\", \"#B0BEC5\"]]}], \"label\": \"Topic 17\", \"method\": \"update\"}, {\"args\": [{\"marker.color\": [[\"#B0BEC5\", \"#B0BEC5\", \"#B0BEC5\", \"#B0BEC5\", \"#B0BEC5\", \"#B0BEC5\", \"#B0BEC5\", \"#B0BEC5\", \"#B0BEC5\", \"#B0BEC5\", \"#B0BEC5\", \"#B0BEC5\", \"#B0BEC5\", \"#B0BEC5\", \"#B0BEC5\", \"#B0BEC5\", \"#B0BEC5\", \"#B0BEC5\", \"red\", \"#B0BEC5\", \"#B0BEC5\"]]}], \"label\": \"Topic 18\", \"method\": \"update\"}, {\"args\": [{\"marker.color\": [[\"#B0BEC5\", \"#B0BEC5\", \"#B0BEC5\", \"#B0BEC5\", \"#B0BEC5\", \"#B0BEC5\", \"#B0BEC5\", \"#B0BEC5\", \"#B0BEC5\", \"#B0BEC5\", \"#B0BEC5\", \"#B0BEC5\", \"#B0BEC5\", \"#B0BEC5\", \"#B0BEC5\", \"#B0BEC5\", \"#B0BEC5\", \"#B0BEC5\", \"#B0BEC5\", \"red\", \"#B0BEC5\"]]}], \"label\": \"Topic 19\", \"method\": \"update\"}, {\"args\": [{\"marker.color\": [[\"#B0BEC5\", \"#B0BEC5\", \"#B0BEC5\", \"#B0BEC5\", \"#B0BEC5\", \"#B0BEC5\", \"#B0BEC5\", \"#B0BEC5\", \"#B0BEC5\", \"#B0BEC5\", \"#B0BEC5\", \"#B0BEC5\", \"#B0BEC5\", \"#B0BEC5\", \"#B0BEC5\", \"#B0BEC5\", \"#B0BEC5\", \"#B0BEC5\", \"#B0BEC5\", \"#B0BEC5\", \"red\"]]}], \"label\": \"Topic 20\", \"method\": \"update\"}]}], \"template\": {\"data\": {\"bar\": [{\"error_x\": {\"color\": \"rgb(36,36,36)\"}, \"error_y\": {\"color\": \"rgb(36,36,36)\"}, \"marker\": {\"line\": {\"color\": \"white\", \"width\": 0.5}}, \"type\": \"bar\"}], \"barpolar\": [{\"marker\": {\"line\": {\"color\": \"white\", \"width\": 0.5}}, \"type\": \"barpolar\"}], \"carpet\": [{\"aaxis\": {\"endlinecolor\": \"rgb(36,36,36)\", \"gridcolor\": \"white\", \"linecolor\": \"white\", \"minorgridcolor\": \"white\", \"startlinecolor\": \"rgb(36,36,36)\"}, \"baxis\": {\"endlinecolor\": \"rgb(36,36,36)\", \"gridcolor\": \"white\", \"linecolor\": \"white\", \"minorgridcolor\": \"white\", \"startlinecolor\": \"rgb(36,36,36)\"}, \"type\": \"carpet\"}], \"choropleth\": [{\"colorbar\": {\"outlinewidth\": 1, \"tickcolor\": \"rgb(36,36,36)\", \"ticks\": \"outside\"}, \"type\": \"choropleth\"}], \"contour\": [{\"colorbar\": {\"outlinewidth\": 1, \"tickcolor\": \"rgb(36,36,36)\", \"ticks\": \"outside\"}, \"colorscale\": [[0.0, \"#440154\"], [0.1111111111111111, \"#482878\"], [0.2222222222222222, \"#3e4989\"], [0.3333333333333333, \"#31688e\"], [0.4444444444444444, \"#26828e\"], [0.5555555555555556, \"#1f9e89\"], [0.6666666666666666, \"#35b779\"], [0.7777777777777778, \"#6ece58\"], [0.8888888888888888, \"#b5de2b\"], [1.0, \"#fde725\"]], \"type\": \"contour\"}], \"contourcarpet\": [{\"colorbar\": {\"outlinewidth\": 1, \"tickcolor\": \"rgb(36,36,36)\", \"ticks\": \"outside\"}, \"type\": \"contourcarpet\"}], \"heatmap\": [{\"colorbar\": {\"outlinewidth\": 1, \"tickcolor\": \"rgb(36,36,36)\", \"ticks\": \"outside\"}, \"colorscale\": [[0.0, \"#440154\"], [0.1111111111111111, \"#482878\"], [0.2222222222222222, \"#3e4989\"], [0.3333333333333333, \"#31688e\"], [0.4444444444444444, \"#26828e\"], [0.5555555555555556, \"#1f9e89\"], [0.6666666666666666, \"#35b779\"], [0.7777777777777778, \"#6ece58\"], [0.8888888888888888, \"#b5de2b\"], [1.0, \"#fde725\"]], \"type\": \"heatmap\"}], \"heatmapgl\": [{\"colorbar\": {\"outlinewidth\": 1, \"tickcolor\": \"rgb(36,36,36)\", \"ticks\": \"outside\"}, \"colorscale\": [[0.0, \"#440154\"], [0.1111111111111111, \"#482878\"], [0.2222222222222222, \"#3e4989\"], [0.3333333333333333, \"#31688e\"], [0.4444444444444444, \"#26828e\"], [0.5555555555555556, \"#1f9e89\"], [0.6666666666666666, \"#35b779\"], [0.7777777777777778, \"#6ece58\"], [0.8888888888888888, \"#b5de2b\"], [1.0, \"#fde725\"]], \"type\": \"heatmapgl\"}], \"histogram\": [{\"marker\": {\"line\": {\"color\": \"white\", \"width\": 0.6}}, \"type\": \"histogram\"}], \"histogram2d\": [{\"colorbar\": {\"outlinewidth\": 1, \"tickcolor\": \"rgb(36,36,36)\", \"ticks\": \"outside\"}, \"colorscale\": [[0.0, \"#440154\"], [0.1111111111111111, \"#482878\"], [0.2222222222222222, \"#3e4989\"], [0.3333333333333333, \"#31688e\"], [0.4444444444444444, \"#26828e\"], [0.5555555555555556, \"#1f9e89\"], [0.6666666666666666, \"#35b779\"], [0.7777777777777778, \"#6ece58\"], [0.8888888888888888, \"#b5de2b\"], [1.0, \"#fde725\"]], \"type\": \"histogram2d\"}], \"histogram2dcontour\": [{\"colorbar\": {\"outlinewidth\": 1, \"tickcolor\": \"rgb(36,36,36)\", \"ticks\": \"outside\"}, \"colorscale\": [[0.0, \"#440154\"], [0.1111111111111111, \"#482878\"], [0.2222222222222222, \"#3e4989\"], [0.3333333333333333, \"#31688e\"], [0.4444444444444444, \"#26828e\"], [0.5555555555555556, \"#1f9e89\"], [0.6666666666666666, \"#35b779\"], [0.7777777777777778, \"#6ece58\"], [0.8888888888888888, \"#b5de2b\"], [1.0, \"#fde725\"]], \"type\": \"histogram2dcontour\"}], \"mesh3d\": [{\"colorbar\": {\"outlinewidth\": 1, \"tickcolor\": \"rgb(36,36,36)\", \"ticks\": \"outside\"}, \"type\": \"mesh3d\"}], \"parcoords\": [{\"line\": {\"colorbar\": {\"outlinewidth\": 1, \"tickcolor\": \"rgb(36,36,36)\", \"ticks\": \"outside\"}}, \"type\": \"parcoords\"}], \"pie\": [{\"automargin\": true, \"type\": \"pie\"}], \"scatter\": [{\"marker\": {\"colorbar\": {\"outlinewidth\": 1, \"tickcolor\": \"rgb(36,36,36)\", \"ticks\": \"outside\"}}, \"type\": \"scatter\"}], \"scatter3d\": [{\"line\": {\"colorbar\": {\"outlinewidth\": 1, \"tickcolor\": \"rgb(36,36,36)\", \"ticks\": \"outside\"}}, \"marker\": {\"colorbar\": {\"outlinewidth\": 1, \"tickcolor\": \"rgb(36,36,36)\", \"ticks\": \"outside\"}}, \"type\": \"scatter3d\"}], \"scattercarpet\": [{\"marker\": {\"colorbar\": {\"outlinewidth\": 1, \"tickcolor\": \"rgb(36,36,36)\", \"ticks\": \"outside\"}}, \"type\": \"scattercarpet\"}], \"scattergeo\": [{\"marker\": {\"colorbar\": {\"outlinewidth\": 1, \"tickcolor\": \"rgb(36,36,36)\", \"ticks\": \"outside\"}}, \"type\": \"scattergeo\"}], \"scattergl\": [{\"marker\": {\"colorbar\": {\"outlinewidth\": 1, \"tickcolor\": \"rgb(36,36,36)\", \"ticks\": \"outside\"}}, \"type\": \"scattergl\"}], \"scattermapbox\": [{\"marker\": {\"colorbar\": {\"outlinewidth\": 1, \"tickcolor\": \"rgb(36,36,36)\", \"ticks\": \"outside\"}}, \"type\": \"scattermapbox\"}], \"scatterpolar\": [{\"marker\": {\"colorbar\": {\"outlinewidth\": 1, \"tickcolor\": \"rgb(36,36,36)\", \"ticks\": \"outside\"}}, \"type\": \"scatterpolar\"}], \"scatterpolargl\": [{\"marker\": {\"colorbar\": {\"outlinewidth\": 1, \"tickcolor\": \"rgb(36,36,36)\", \"ticks\": \"outside\"}}, \"type\": \"scatterpolargl\"}], \"scatterternary\": [{\"marker\": {\"colorbar\": {\"outlinewidth\": 1, \"tickcolor\": \"rgb(36,36,36)\", \"ticks\": \"outside\"}}, \"type\": \"scatterternary\"}], \"surface\": [{\"colorbar\": {\"outlinewidth\": 1, \"tickcolor\": \"rgb(36,36,36)\", \"ticks\": \"outside\"}, \"colorscale\": [[0.0, \"#440154\"], [0.1111111111111111, \"#482878\"], [0.2222222222222222, \"#3e4989\"], [0.3333333333333333, \"#31688e\"], [0.4444444444444444, \"#26828e\"], [0.5555555555555556, \"#1f9e89\"], [0.6666666666666666, \"#35b779\"], [0.7777777777777778, \"#6ece58\"], [0.8888888888888888, \"#b5de2b\"], [1.0, \"#fde725\"]], \"type\": \"surface\"}], \"table\": [{\"cells\": {\"fill\": {\"color\": \"rgb(237,237,237)\"}, \"line\": {\"color\": \"white\"}}, \"header\": {\"fill\": {\"color\": \"rgb(217,217,217)\"}, \"line\": {\"color\": \"white\"}}, \"type\": \"table\"}]}, \"layout\": {\"annotationdefaults\": {\"arrowhead\": 0, \"arrowwidth\": 1}, \"autotypenumbers\": \"strict\", \"coloraxis\": {\"colorbar\": {\"outlinewidth\": 1, \"tickcolor\": \"rgb(36,36,36)\", \"ticks\": \"outside\"}}, \"colorscale\": {\"diverging\": [[0.0, \"rgb(103,0,31)\"], [0.1, \"rgb(178,24,43)\"], [0.2, \"rgb(214,96,77)\"], [0.3, \"rgb(244,165,130)\"], [0.4, \"rgb(253,219,199)\"], [0.5, \"rgb(247,247,247)\"], [0.6, \"rgb(209,229,240)\"], [0.7, \"rgb(146,197,222)\"], [0.8, \"rgb(67,147,195)\"], [0.9, \"rgb(33,102,172)\"], [1.0, \"rgb(5,48,97)\"]], \"sequential\": [[0.0, \"#440154\"], [0.1111111111111111, \"#482878\"], [0.2222222222222222, \"#3e4989\"], [0.3333333333333333, \"#31688e\"], [0.4444444444444444, \"#26828e\"], [0.5555555555555556, \"#1f9e89\"], [0.6666666666666666, \"#35b779\"], [0.7777777777777778, \"#6ece58\"], [0.8888888888888888, \"#b5de2b\"], [1.0, \"#fde725\"]], \"sequentialminus\": [[0.0, \"#440154\"], [0.1111111111111111, \"#482878\"], [0.2222222222222222, \"#3e4989\"], [0.3333333333333333, \"#31688e\"], [0.4444444444444444, \"#26828e\"], [0.5555555555555556, \"#1f9e89\"], [0.6666666666666666, \"#35b779\"], [0.7777777777777778, \"#6ece58\"], [0.8888888888888888, \"#b5de2b\"], [1.0, \"#fde725\"]]}, \"colorway\": [\"#1F77B4\", \"#FF7F0E\", \"#2CA02C\", \"#D62728\", \"#9467BD\", \"#8C564B\", \"#E377C2\", \"#7F7F7F\", \"#BCBD22\", \"#17BECF\"], \"font\": {\"color\": \"rgb(36,36,36)\"}, \"geo\": {\"bgcolor\": \"white\", \"lakecolor\": \"white\", \"landcolor\": \"white\", \"showlakes\": true, \"showland\": true, \"subunitcolor\": \"white\"}, \"hoverlabel\": {\"align\": \"left\"}, \"hovermode\": \"closest\", \"mapbox\": {\"style\": \"light\"}, \"paper_bgcolor\": \"white\", \"plot_bgcolor\": \"white\", \"polar\": {\"angularaxis\": {\"gridcolor\": \"rgb(232,232,232)\", \"linecolor\": \"rgb(36,36,36)\", \"showgrid\": false, \"showline\": true, \"ticks\": \"outside\"}, \"bgcolor\": \"white\", \"radialaxis\": {\"gridcolor\": \"rgb(232,232,232)\", \"linecolor\": \"rgb(36,36,36)\", \"showgrid\": false, \"showline\": true, \"ticks\": \"outside\"}}, \"scene\": {\"xaxis\": {\"backgroundcolor\": \"white\", \"gridcolor\": \"rgb(232,232,232)\", \"gridwidth\": 2, \"linecolor\": \"rgb(36,36,36)\", \"showbackground\": true, \"showgrid\": false, \"showline\": true, \"ticks\": \"outside\", \"zeroline\": false, \"zerolinecolor\": \"rgb(36,36,36)\"}, \"yaxis\": {\"backgroundcolor\": \"white\", \"gridcolor\": \"rgb(232,232,232)\", \"gridwidth\": 2, \"linecolor\": \"rgb(36,36,36)\", \"showbackground\": true, \"showgrid\": false, \"showline\": true, \"ticks\": \"outside\", \"zeroline\": false, \"zerolinecolor\": \"rgb(36,36,36)\"}, \"zaxis\": {\"backgroundcolor\": \"white\", \"gridcolor\": \"rgb(232,232,232)\", \"gridwidth\": 2, \"linecolor\": \"rgb(36,36,36)\", \"showbackground\": true, \"showgrid\": false, \"showline\": true, \"ticks\": \"outside\", \"zeroline\": false, \"zerolinecolor\": \"rgb(36,36,36)\"}}, \"shapedefaults\": {\"fillcolor\": \"black\", \"line\": {\"width\": 0}, \"opacity\": 0.3}, \"ternary\": {\"aaxis\": {\"gridcolor\": \"rgb(232,232,232)\", \"linecolor\": \"rgb(36,36,36)\", \"showgrid\": false, \"showline\": true, \"ticks\": \"outside\"}, \"baxis\": {\"gridcolor\": \"rgb(232,232,232)\", \"linecolor\": \"rgb(36,36,36)\", \"showgrid\": false, \"showline\": true, \"ticks\": \"outside\"}, \"bgcolor\": \"white\", \"caxis\": {\"gridcolor\": \"rgb(232,232,232)\", \"linecolor\": \"rgb(36,36,36)\", \"showgrid\": false, \"showline\": true, \"ticks\": \"outside\"}}, \"title\": {\"x\": 0.05}, \"xaxis\": {\"automargin\": true, \"gridcolor\": \"rgb(232,232,232)\", \"linecolor\": \"rgb(36,36,36)\", \"showgrid\": false, \"showline\": true, \"ticks\": \"outside\", \"title\": {\"standoff\": 15}, \"zeroline\": false, \"zerolinecolor\": \"rgb(36,36,36)\"}, \"yaxis\": {\"automargin\": true, \"gridcolor\": \"rgb(232,232,232)\", \"linecolor\": \"rgb(36,36,36)\", \"showgrid\": false, \"showline\": true, \"ticks\": \"outside\", \"title\": {\"standoff\": 15}, \"zeroline\": false, \"zerolinecolor\": \"rgb(36,36,36)\"}}}, \"title\": {\"font\": {\"color\": \"Black\", \"size\": 22}, \"text\": \"<b>Intertopic Distance Map\", \"x\": 0.5, \"xanchor\": \"center\", \"y\": 0.95, \"yanchor\": \"top\"}, \"width\": 650, \"xaxis\": {\"anchor\": \"y\", \"domain\": [0.0, 1.0], \"range\": [-4.178086972236633, 15.131186723709106], \"title\": {\"text\": \"\"}, \"visible\": false}, \"yaxis\": {\"anchor\": \"x\", \"domain\": [0.0, 1.0], \"range\": [-1.7117116630077363, 13.608058786392212], \"title\": {\"text\": \"\"}, \"visible\": false}},                        {\"responsive\": true}                    ).then(function(){\n",
              "                            \n",
              "var gd = document.getElementById('34f15bf8-1db7-4da5-ad10-36884b9391b4');\n",
              "var x = new MutationObserver(function (mutations, observer) {{\n",
              "        var display = window.getComputedStyle(gd).display;\n",
              "        if (!display || display === 'none') {{\n",
              "            console.log([gd, 'removed!']);\n",
              "            Plotly.purge(gd);\n",
              "            observer.disconnect();\n",
              "        }}\n",
              "}});\n",
              "\n",
              "// Listen for the removal of the full notebook cells\n",
              "var notebookContainer = gd.closest('#notebook-container');\n",
              "if (notebookContainer) {{\n",
              "    x.observe(notebookContainer, {childList: true});\n",
              "}}\n",
              "\n",
              "// Listen for the clearing of the current output cell\n",
              "var outputEl = gd.closest('.output');\n",
              "if (outputEl) {{\n",
              "    x.observe(outputEl, {childList: true});\n",
              "}}\n",
              "\n",
              "                        })                };                            </script>        </div>\n",
              "</body>\n",
              "</html>"
            ]
          },
          "metadata": {
            "tags": []
          }
        }
      ]
    },
    {
      "cell_type": "code",
      "metadata": {
        "id": "PJ_pZBshdtSz"
      },
      "source": [
        ""
      ],
      "execution_count": null,
      "outputs": []
    }
  ]
}